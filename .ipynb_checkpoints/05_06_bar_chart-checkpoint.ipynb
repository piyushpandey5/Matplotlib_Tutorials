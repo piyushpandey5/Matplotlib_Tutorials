{
 "cells": [
  {
   "cell_type": "markdown",
   "id": "ae0c87a2",
   "metadata": {},
   "source": [
    "# Ploting Bar Chart\n"
   ]
  },
  {
   "cell_type": "code",
   "execution_count": 6,
   "id": "48ccade5",
   "metadata": {},
   "outputs": [],
   "source": [
    "import matplotlib.pyplot as plt\n",
    "import numpy as np\n",
    "from matplotlib import style"
   ]
  },
  {
   "cell_type": "code",
   "execution_count": 11,
   "id": "127f1f64",
   "metadata": {},
   "outputs": [],
   "source": [
    "classes=[\"Python\",\"R\",\"AI\",\"ML\",\"DS\"]\n",
    "class1_students=[30,10,20,25,10] #out of 100 student in each class\n",
    "class2_students=[40,5,20,20,10]\n",
    "class3_students=[35,5,30,15,15]\n"
   ]
  },
  {
   "cell_type": "code",
   "execution_count": 12,
   "id": "31e5a45b",
   "metadata": {},
   "outputs": [
    {
     "data": {
      "text/plain": [
       "<BarContainer object of 5 artists>"
      ]
     },
     "execution_count": 12,
     "metadata": {},
     "output_type": "execute_result"
    },
    {
     "data": {
      "image/png": "[encoded data removed]",
      "text/plain": [
       "<Figure size 432x288 with 1 Axes>"
      ]
     },
     "metadata": {
      "needs_background": "light"
     },
     "output_type": "display_data"
    }
   ],
   "source": [
    "plt.bar(classes,class1_students)"
   ]
  },
  {
   "cell_type": "code",
   "execution_count": 13,
   "id": "91de320e",
   "metadata": {},
   "outputs": [
    {
     "data": {
      "text/plain": [
       "<BarContainer object of 5 artists>"
      ]
     },
     "execution_count": 13,
     "metadata": {},
     "output_type": "execute_result"
    },
    {
     "data": {
      "image/png": "[encoded data removed]",
      "text/plain": [
       "<Figure size 432x288 with 1 Axes>"
      ]
     },
     "metadata": {
      "needs_background": "light"
     },
     "output_type": "display_data"
    }
   ],
   "source": [
    "plt.barh(classes,class1_students) #barh will plot the graph horizontaly"
   ]
  },
  {
   "cell_type": "code",
   "execution_count": 26,
   "id": "9b64e0c7",
   "metadata": {},
   "outputs": [
    {
     "data": {
      "text/plain": [
       "<BarContainer object of 5 artists>"
      ]
     },
     "execution_count": 26,
     "metadata": {},
     "output_type": "execute_result"
    },
    {
     "data": {
      "image/png": "[encoded data removed]",
      "text/plain": [
       "<Figure size 432x288 with 1 Axes>"
      ]
     },
     "metadata": {
      "needs_background": "light"
     },
     "output_type": "display_data"
    }
   ],
   "source": [
    "plt.bar(classes,class1_students,width=0.2,align=\"edge\",color=\"y\",edgecolor=\"m\",linewidth=5,alpha=0.5,linestyle=\"--\",label=\" Class 1 student\",visible=True)\n",
    "#edgecolor changes the color of the edge of the graph, alpha maintains the capacity of color, visible enables or disables the visibility of the graph"
   ]
  },
  {
   "cell_type": "code",
   "execution_count": null,
   "id": "e7f33780",
   "metadata": {},
   "outputs": [],
   "source": []
  }
 ],
 "metadata": {
  "kernelspec": {
   "display_name": "Python 3 (ipykernel)",
   "language": "python",
   "name": "python3"
  },
  "language_info": {
   "codemirror_mode": {
    "name": "ipython",
    "version": 3
   },
   "file_extension": ".py",
   "mimetype": "text/x-python",
   "name": "python",
   "nbconvert_exporter": "python",
   "pygments_lexer": "ipython3",
   "version": "3.7.11"
  }
 },
 "nbformat": 4,
 "nbformat_minor": 5
}

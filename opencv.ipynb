{
 "cells": [
  {
   "cell_type": "code",
   "execution_count": 1,
   "id": "69fc09f3",
   "metadata": {},
   "outputs": [],
   "source": [
    "import numpy as np\n",
    "import cv2"
   ]
  },
  {
   "cell_type": "code",
   "execution_count": 2,
   "id": "97a7bcd5",
   "metadata": {},
   "outputs": [],
   "source": [
    "video_path1=r'F:\\python\\my_project_smile_detection\\s1.mp4'\n",
    "video_path2=r'F:\\python\\my_project_smile_detection\\s1.mp4'"
   ]
  },
  {
   "cell_type": "code",
   "execution_count": 3,
   "id": "fa796a0f",
   "metadata": {},
   "outputs": [],
   "source": [
    "cap=cv2.VideoCapture(video_path1)\n",
    "while cap.isOpened():\n",
    "    ret,frame=cap.read()\n",
    "    if not ret:\n",
    "        break\n",
    "    image=cv2.resize(frame,(288,322))\n",
    "    cv2.imshow('Video Player',image)\n",
    "    if cv2.waitKey(25)&0xff == ('q'):\n",
    "        break\n",
    "    else:\n",
    "        break\n",
    "\n",
    "        cap.release()\n",
    "        cv2.destroyAllWindows()"
   ]
  },
  {
   "cell_type": "code",
   "execution_count": null,
   "id": "118186fb",
   "metadata": {},
   "outputs": [],
   "source": []
  }
 ],
 "metadata": {
  "kernelspec": {
   "display_name": "Python 3 (ipykernel)",
   "language": "python",
   "name": "python3"
  },
  "language_info": {
   "codemirror_mode": {
    "name": "ipython",
    "version": 3
   },
   "file_extension": ".py",
   "mimetype": "text/x-python",
   "name": "python",
   "nbconvert_exporter": "python",
   "pygments_lexer": "ipython3",
   "version": "3.7.11"
  }
 },
 "nbformat": 4,
 "nbformat_minor": 5
}
